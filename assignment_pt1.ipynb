{
 "cells": [
  {
   "cell_type": "code",
   "execution_count": 1,
   "id": "88dde077",
   "metadata": {},
   "outputs": [],
   "source": [
    "import numpy as np\n",
    "import pandas as pd\n",
    "from datetime import datetime"
   ]
  },
  {
   "cell_type": "code",
   "execution_count": 2,
   "id": "91d2166b",
   "metadata": {
    "scrolled": false
   },
   "outputs": [
    {
     "name": "stdout",
     "output_type": "stream",
     "text": [
      "<class 'pandas.core.frame.DataFrame'>\n",
      "RangeIndex: 187848 entries, 0 to 187847\n",
      "Data columns (total 10 columns):\n",
      " #   Column           Non-Null Count   Dtype \n",
      "---  ------           --------------   ----- \n",
      " 0   Snapshot ID      187848 non-null  int64 \n",
      " 1   Snapshot Date    187848 non-null  object\n",
      " 2   Checkin Date     187848 non-null  object\n",
      " 3   Days             187848 non-null  int64 \n",
      " 4   Original Price   187848 non-null  int64 \n",
      " 5   Discount Price   187848 non-null  int64 \n",
      " 6   Discount Code    187848 non-null  int64 \n",
      " 7   Available Rooms  187848 non-null  int64 \n",
      " 8   Hotel Name       187848 non-null  object\n",
      " 9   Hotel Stars      187848 non-null  int64 \n",
      "dtypes: int64(7), object(3)\n",
      "memory usage: 14.3+ MB\n"
     ]
    }
   ],
   "source": [
    "hotels = pd.read_csv('hotels_data.csv', sep=',')\n",
    "\n",
    "hotels.info()"
   ]
  },
  {
   "cell_type": "code",
   "execution_count": 3,
   "id": "cd97b1f9",
   "metadata": {},
   "outputs": [
    {
     "data": {
      "text/html": [
       "<div>\n",
       "<style scoped>\n",
       "    .dataframe tbody tr th:only-of-type {\n",
       "        vertical-align: middle;\n",
       "    }\n",
       "\n",
       "    .dataframe tbody tr th {\n",
       "        vertical-align: top;\n",
       "    }\n",
       "\n",
       "    .dataframe thead th {\n",
       "        text-align: right;\n",
       "    }\n",
       "</style>\n",
       "<table border=\"1\" class=\"dataframe\">\n",
       "  <thead>\n",
       "    <tr style=\"text-align: right;\">\n",
       "      <th></th>\n",
       "      <th>Snapshot ID</th>\n",
       "      <th>Snapshot Date</th>\n",
       "      <th>Checkin Date</th>\n",
       "      <th>Days</th>\n",
       "      <th>Original Price</th>\n",
       "      <th>Discount Price</th>\n",
       "      <th>Discount Code</th>\n",
       "      <th>Available Rooms</th>\n",
       "      <th>Hotel Name</th>\n",
       "      <th>Hotel Stars</th>\n",
       "    </tr>\n",
       "  </thead>\n",
       "  <tbody>\n",
       "    <tr>\n",
       "      <th>0</th>\n",
       "      <td>1</td>\n",
       "      <td>7/17/2015 0:00</td>\n",
       "      <td>8/12/2015 0:00</td>\n",
       "      <td>5</td>\n",
       "      <td>1178</td>\n",
       "      <td>1040</td>\n",
       "      <td>1</td>\n",
       "      <td>6</td>\n",
       "      <td>Best Western Plus Seaport Inn Downtown</td>\n",
       "      <td>3</td>\n",
       "    </tr>\n",
       "    <tr>\n",
       "      <th>1</th>\n",
       "      <td>1</td>\n",
       "      <td>7/17/2015 0:00</td>\n",
       "      <td>8/19/2015 0:00</td>\n",
       "      <td>5</td>\n",
       "      <td>1113</td>\n",
       "      <td>982</td>\n",
       "      <td>1</td>\n",
       "      <td>8</td>\n",
       "      <td>Best Western Plus Seaport Inn Downtown</td>\n",
       "      <td>3</td>\n",
       "    </tr>\n",
       "    <tr>\n",
       "      <th>2</th>\n",
       "      <td>1</td>\n",
       "      <td>7/17/2015 0:00</td>\n",
       "      <td>8/13/2015 0:00</td>\n",
       "      <td>5</td>\n",
       "      <td>4370</td>\n",
       "      <td>4240</td>\n",
       "      <td>1</td>\n",
       "      <td>3</td>\n",
       "      <td>The Peninsula New York</td>\n",
       "      <td>5</td>\n",
       "    </tr>\n",
       "    <tr>\n",
       "      <th>3</th>\n",
       "      <td>1</td>\n",
       "      <td>7/17/2015 0:00</td>\n",
       "      <td>7/26/2015 0:00</td>\n",
       "      <td>5</td>\n",
       "      <td>1739</td>\n",
       "      <td>1667</td>\n",
       "      <td>1</td>\n",
       "      <td>18</td>\n",
       "      <td>Eventi Hotel a Kimpton Hotel</td>\n",
       "      <td>4</td>\n",
       "    </tr>\n",
       "    <tr>\n",
       "      <th>4</th>\n",
       "      <td>1</td>\n",
       "      <td>7/17/2015 0:00</td>\n",
       "      <td>8/12/2015 0:00</td>\n",
       "      <td>5</td>\n",
       "      <td>1739</td>\n",
       "      <td>1672</td>\n",
       "      <td>1</td>\n",
       "      <td>3</td>\n",
       "      <td>Eventi Hotel a Kimpton Hotel</td>\n",
       "      <td>4</td>\n",
       "    </tr>\n",
       "  </tbody>\n",
       "</table>\n",
       "</div>"
      ],
      "text/plain": [
       "   Snapshot ID   Snapshot Date    Checkin Date  Days  Original Price  \\\n",
       "0            1  7/17/2015 0:00  8/12/2015 0:00     5            1178   \n",
       "1            1  7/17/2015 0:00  8/19/2015 0:00     5            1113   \n",
       "2            1  7/17/2015 0:00  8/13/2015 0:00     5            4370   \n",
       "3            1  7/17/2015 0:00  7/26/2015 0:00     5            1739   \n",
       "4            1  7/17/2015 0:00  8/12/2015 0:00     5            1739   \n",
       "\n",
       "   Discount Price  Discount Code  Available Rooms  \\\n",
       "0            1040              1                6   \n",
       "1             982              1                8   \n",
       "2            4240              1                3   \n",
       "3            1667              1               18   \n",
       "4            1672              1                3   \n",
       "\n",
       "                               Hotel Name  Hotel Stars  \n",
       "0  Best Western Plus Seaport Inn Downtown            3  \n",
       "1  Best Western Plus Seaport Inn Downtown            3  \n",
       "2                  The Peninsula New York            5  \n",
       "3            Eventi Hotel a Kimpton Hotel            4  \n",
       "4            Eventi Hotel a Kimpton Hotel            4  "
      ]
     },
     "execution_count": 3,
     "metadata": {},
     "output_type": "execute_result"
    }
   ],
   "source": [
    "hotels.head()"
   ]
  },
  {
   "cell_type": "code",
   "execution_count": 4,
   "id": "ee2ec6b0",
   "metadata": {
    "scrolled": true
   },
   "outputs": [
    {
     "data": {
      "text/plain": [
       "0         26\n",
       "1         33\n",
       "2         27\n",
       "3          9\n",
       "4         26\n",
       "          ..\n",
       "187843    20\n",
       "187844    20\n",
       "187845     5\n",
       "187846    18\n",
       "187847    20\n",
       "Name: DayDiff, Length: 187848, dtype: int64"
      ]
     },
     "execution_count": 4,
     "metadata": {},
     "output_type": "execute_result"
    }
   ],
   "source": [
    "# DayDiff - the number of days between the Snapshot Date and the Checkin Date.\n",
    "\n",
    "hotels['Snapshot Date'] = pd.to_datetime(hotels['Snapshot Date'])\n",
    "\n",
    "hotels['Checkin Date'] = pd.to_datetime(hotels['Checkin Date'])\n",
    "\n",
    "hotels['DayDiff'] = (hotels['Checkin Date'] - hotels['Snapshot Date']).dt.days\n",
    "\n",
    "hotels['DayDiff']"
   ]
  },
  {
   "cell_type": "code",
   "execution_count": 5,
   "id": "6a1fe861",
   "metadata": {
    "scrolled": true
   },
   "outputs": [
    {
     "data": {
      "text/plain": [
       "0         Wednesday\n",
       "1         Wednesday\n",
       "2          Thursday\n",
       "3            Sunday\n",
       "4         Wednesday\n",
       "            ...    \n",
       "187843       Friday\n",
       "187844       Friday\n",
       "187845     Thursday\n",
       "187846    Wednesday\n",
       "187847       Friday\n",
       "Name: WeekDay, Length: 187848, dtype: object"
      ]
     },
     "execution_count": 5,
     "metadata": {},
     "output_type": "execute_result"
    }
   ],
   "source": [
    "# WeekDay - the day of the week (Sun/Mon/Tue/Wed/Thu/Fri/Sat) of the Checkin Date.\n",
    "hotels['WeekDay'] = hotels['Checkin Date'].dt.day_name()\n",
    "\n",
    "hotels['WeekDay']"
   ]
  },
  {
   "cell_type": "code",
   "execution_count": 6,
   "id": "612a2d7c",
   "metadata": {},
   "outputs": [
    {
     "data": {
      "text/plain": [
       "0         138\n",
       "1         131\n",
       "2         130\n",
       "3          72\n",
       "4          67\n",
       "         ... \n",
       "187843     60\n",
       "187844    240\n",
       "187845     59\n",
       "187846     57\n",
       "187847    152\n",
       "Name: DiscountDiff, Length: 187848, dtype: int64"
      ]
     },
     "execution_count": 6,
     "metadata": {},
     "output_type": "execute_result"
    }
   ],
   "source": [
    "# DiscountDiff - the discount amount in dollars (the difference between Original Price and Discount Price).\n",
    "hotels['DiscountDiff'] = hotels['Original Price'] - hotels['Discount Price']\n",
    "\n",
    "hotels['DiscountDiff']"
   ]
  },
  {
   "cell_type": "code",
   "execution_count": 7,
   "id": "e5b82d47",
   "metadata": {},
   "outputs": [
    {
     "data": {
      "text/plain": [
       "0         11.7\n",
       "1         11.8\n",
       "2          3.0\n",
       "3          4.1\n",
       "4          3.9\n",
       "          ... \n",
       "187843     3.0\n",
       "187844    11.4\n",
       "187845     4.1\n",
       "187846     3.3\n",
       "187847     8.0\n",
       "Name: DiscountPerc, Length: 187848, dtype: float64"
      ]
     },
     "execution_count": 7,
     "metadata": {},
     "output_type": "execute_result"
    }
   ],
   "source": [
    "# DiscountPerc - the discount percentage.\n",
    "hotels['DiscountPerc'] = round((hotels['Original Price'] - hotels['Discount Price']) / hotels['Original Price'] * 100, 1)\n",
    "\n",
    "hotels['DiscountPerc']"
   ]
  }
 ],
 "metadata": {
  "kernelspec": {
   "display_name": "Python 3 (ipykernel)",
   "language": "python",
   "name": "python3"
  },
  "language_info": {
   "codemirror_mode": {
    "name": "ipython",
    "version": 3
   },
   "file_extension": ".py",
   "mimetype": "text/x-python",
   "name": "python",
   "nbconvert_exporter": "python",
   "pygments_lexer": "ipython3",
   "version": "3.10.9"
  }
 },
 "nbformat": 4,
 "nbformat_minor": 5
}
