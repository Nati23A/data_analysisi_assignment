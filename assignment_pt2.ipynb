{
 "cells": [
  {
   "cell_type": "markdown",
   "id": "41fdc01a",
   "metadata": {},
   "source": [
    "# Assignment Part 2"
   ]
  },
  {
   "cell_type": "code",
   "execution_count": 1,
   "id": "de7e4c38",
   "metadata": {},
   "outputs": [],
   "source": [
    "from urllib.request import urlopen\n",
    "import requests\n",
    "import numpy as np\n",
    "import pandas as pd\n",
    "import cv2\n",
    "import json\n",
    "import sys\n",
    "from matplotlib.pyplot import figure\n",
    "import seaborn as sns\n"
   ]
  },
  {
   "cell_type": "markdown",
   "id": "f4c60412",
   "metadata": {},
   "source": [
    "## 1. Annotation"
   ]
  },
  {
   "cell_type": "code",
   "execution_count": 2,
   "id": "1a25812a",
   "metadata": {},
   "outputs": [],
   "source": [
    "# URL to image using opencv\n",
    "image_url = 'http://images.cocodataset.org/val2017/000000184791.jpg'\n",
    "\n",
    "resp = urlopen(image_url)\n",
    "\n",
    "image = np.asarray(bytearray(resp.read()), dtype='uint8')\n",
    "\n",
    "image = cv2.imdecode(image, cv2.IMREAD_COLOR)\n"
   ]
  },
  {
   "cell_type": "code",
   "execution_count": 3,
   "id": "56362601",
   "metadata": {},
   "outputs": [
    {
     "data": {
      "text/plain": [
       "array([[[221, 215, 210],\n",
       "        [220, 214, 209],\n",
       "        [220, 214, 209],\n",
       "        ...,\n",
       "        [194, 197, 188],\n",
       "        [194, 197, 188],\n",
       "        [194, 197, 188]],\n",
       "\n",
       "       [[222, 216, 211],\n",
       "        [222, 216, 211],\n",
       "        [221, 215, 210],\n",
       "        ...,\n",
       "        [195, 198, 189],\n",
       "        [194, 197, 188],\n",
       "        [194, 197, 188]],\n",
       "\n",
       "       [[222, 216, 211],\n",
       "        [222, 216, 211],\n",
       "        [222, 216, 211],\n",
       "        ...,\n",
       "        [195, 198, 189],\n",
       "        [194, 197, 188],\n",
       "        [194, 197, 188]],\n",
       "\n",
       "       ...,\n",
       "\n",
       "       [[219, 209, 202],\n",
       "        [219, 210, 201],\n",
       "        [219, 210, 200],\n",
       "        ...,\n",
       "        [193, 194, 185],\n",
       "        [192, 192, 186],\n",
       "        [192, 192, 186]],\n",
       "\n",
       "       [[219, 209, 202],\n",
       "        [219, 210, 201],\n",
       "        [219, 210, 200],\n",
       "        ...,\n",
       "        [193, 193, 187],\n",
       "        [192, 192, 186],\n",
       "        [192, 192, 186]],\n",
       "\n",
       "       [[219, 209, 202],\n",
       "        [219, 210, 201],\n",
       "        [219, 210, 200],\n",
       "        ...,\n",
       "        [193, 193, 187],\n",
       "        [192, 192, 186],\n",
       "        [192, 192, 186]]], dtype=uint8)"
      ]
     },
     "execution_count": 3,
     "metadata": {},
     "output_type": "execute_result"
    }
   ],
   "source": [
    "# Objects cordinates\n",
    "bowl_coor1 = (120, 300)\n",
    "\n",
    "bowl_coor2 = (300, 400)\n",
    "\n",
    "candle_coor1 = (340, 70)\n",
    "\n",
    "candle_coor2 = (460, 300)\n",
    "  \n",
    "# Creating bounding boxes\n",
    "cv2.rectangle(image ,bowl_coor1 ,bowl_coor2, (255, 0, 0), 2) \n",
    "\n",
    "cv2.rectangle(image, candle_coor1, candle_coor2, (0,255 , 0), 2)\n"
   ]
  },
  {
   "cell_type": "code",
   "execution_count": 4,
   "id": "c0bca94a",
   "metadata": {
    "scrolled": false
   },
   "outputs": [
    {
     "data": {
      "text/plain": [
       "-1"
      ]
     },
     "execution_count": 4,
     "metadata": {},
     "output_type": "execute_result"
    }
   ],
   "source": [
    "# Viewing the image\n",
    "cv2.imshow('image',image)\n",
    "\n",
    "cv2.waitKey(0)\n"
   ]
  },
  {
   "cell_type": "code",
   "execution_count": 5,
   "id": "8d64e2c8",
   "metadata": {},
   "outputs": [],
   "source": [
    "anot_json = {\n",
    "  \"image_name\": \"image1.jpg\",\n",
    "  \"annotations\": [\n",
    "    {\n",
    "      \"label\": \"bowl\",\n",
    "      \"coordinates\": {\n",
    "        \"x_min\": 120,\n",
    "        \"y_min\": 300,\n",
    "        \"x_max\": 300,\n",
    "        \"y_max\": 400\n",
    "      }\n",
    "    },\n",
    "    {\n",
    "      \"label\": \"candle\",\n",
    "      \"coordinates\": {\n",
    "        \"x_min\": 70,\n",
    "        \"y_min\": 300,\n",
    "        \"x_max\": 340,\n",
    "        \"y_max\": 460\n",
    "      }\n",
    "    }\n",
    "  ]\n",
    "}\n",
    "\n",
    "# Saving json file\n",
    "with open('annotation.json', 'w') as f:\n",
    "    json.dump(anot_json, f, indent= 2)\n"
   ]
  },
  {
   "cell_type": "markdown",
   "id": "4956c541",
   "metadata": {},
   "source": [
    "## 2. Scripting"
   ]
  },
  {
   "cell_type": "markdown",
   "id": "81efdbfc",
   "metadata": {},
   "source": [
    "### 2.1. Output a CSV file with normalized coordinates of the bounding boxes."
   ]
  },
  {
   "cell_type": "code",
   "execution_count": 6,
   "id": "05dea0fb",
   "metadata": {
    "scrolled": false
   },
   "outputs": [],
   "source": [
    "with open('annotation.json') as f:\n",
    "    data = json.load(f)\n",
    "\n",
    "def normalized_coord(image, file):\n",
    "    x = image.shape[0]\n",
    "    y = image.shape[1]\n",
    "    \n",
    "    for annot in file['annotations']:\n",
    "        annot['coordinates']['x_min'] = annot['coordinates']['x_min'] / x\n",
    "        annot['coordinates']['x_max'] = annot['coordinates']['x_max'] / x\n",
    "        annot['coordinates']['y_min'] = annot['coordinates']['y_min'] / y\n",
    "        annot['coordinates']['y_max'] = annot['coordinates']['y_max'] / y\n",
    "        \n",
    "normalized_coord(image, data)\n",
    "\n",
    "# Settimg up a df and saving as csv\n",
    "\n",
    "normed_coords = pd.json_normalize(data['annotations']).set_index('label')\n",
    "\n",
    "normed_coords.to_csv('normed_coords.csv', sep=',')\n"
   ]
  },
  {
   "cell_type": "code",
   "execution_count": 7,
   "id": "5d9f28dd",
   "metadata": {
    "scrolled": false
   },
   "outputs": [
    {
     "data": {
      "text/plain": [
       "<Axes: xlabel='label'>"
      ]
     },
     "execution_count": 7,
     "metadata": {},
     "output_type": "execute_result"
    },
    {
     "data": {
      "image/png": "[encoded data removed]",
      "text/plain": [
       "<Figure size 640x480 with 1 Axes>"
      ]
     },
     "metadata": {},
     "output_type": "display_data"
    }
   ],
   "source": [
    "# Visualize the output\n",
    "vis_data1 = pd.read_csv('normed_coords.csv')\n",
    "\n",
    "vis_data1.set_index('label').plot(kind='bar')\n"
   ]
  },
  {
   "cell_type": "markdown",
   "id": "3e7f0cd5",
   "metadata": {},
   "source": [
    "### 2.2. Output another JSON file that converts the bounding box coordinates to x_min, y_min, width, height."
   ]
  },
  {
   "cell_type": "code",
   "execution_count": 8,
   "id": "555709ff",
   "metadata": {},
   "outputs": [],
   "source": [
    "with open('annotation.json') as f:\n",
    "    data = json.load(f)\n",
    "\n",
    "# Creating width and height keys\n",
    "for annot in data['annotations']:\n",
    "    annot['coordinates']['width'] = annot['coordinates']['x_max'] - annot['coordinates']['x_min']\n",
    "    annot['coordinates']['height'] = annot['coordinates']['y_max'] - annot['coordinates']['y_min'] \n",
    "\n",
    "# Deleting x_man and y_max\n",
    "for item in data['annotations']:\n",
    "    del item['coordinates']['x_max']\n",
    "    del item['coordinates']['y_max']\n",
    "\n",
    "# Saving to a new json file\n",
    "with open('wh_annotation.json', 'w') as f:\n",
    "    json.dump(data, f, indent = 2)\n"
   ]
  },
  {
   "cell_type": "code",
   "execution_count": 9,
   "id": "9da34059",
   "metadata": {},
   "outputs": [
    {
     "data": {
      "text/plain": [
       "<Axes: >"
      ]
     },
     "execution_count": 9,
     "metadata": {},
     "output_type": "execute_result"
    },
    {
     "data": {
      "image/png": "[encoded data removed]",
      "text/plain": [
       "<Figure size 800x500 with 1 Axes>"
      ]
     },
     "metadata": {},
     "output_type": "display_data"
    }
   ],
   "source": [
    "# Fetching visualization data and plotting\n",
    "with open('wh_annotation.json') as f:\n",
    "    data = json.load(f)\n",
    "\n",
    "vis_data2 = pd.json_normalize(data['annotations']).set_index('label')\n",
    "\n",
    "figure(figsize=(8,5))\n",
    "\n",
    "sns.barplot(vis_data2)\n"
   ]
  }
 ],
 "metadata": {
  "kernelspec": {
   "display_name": "Python 3 (ipykernel)",
   "language": "python",
   "name": "python3"
  },
  "language_info": {
   "codemirror_mode": {
    "name": "ipython",
    "version": 3
   },
   "file_extension": ".py",
   "mimetype": "text/x-python",
   "name": "python",
   "nbconvert_exporter": "python",
   "pygments_lexer": "ipython3",
   "version": "3.10.9"
  }
 },
 "nbformat": 4,
 "nbformat_minor": 5
}
